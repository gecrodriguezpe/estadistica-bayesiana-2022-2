{
 "cells": [
  {
   "cell_type": "markdown",
   "id": "veterinary-jacob",
   "metadata": {},
   "source": [
    "# Modelo Poisson\n",
    "\n",
    "Juan Sosa PhD\n",
    "\n",
    "Email jcsosam@unal.edu.co\n",
    "\n",
    "GitHub https://github.com/jstats1702\n",
    "\n",
    "Samuel Sánchez (Python y revisión R)\n",
    "\n",
    "Email ssanchezgu@unal.edu.co\n",
    "\n",
    "GitHub https://github.com/Samuel-col"
   ]
  },
  {
   "cell_type": "code",
   "execution_count": 1,
   "id": "fixed-venture",
   "metadata": {},
   "outputs": [],
   "source": [
    "import numpy as np\n",
    "import pandas as pd\n",
    "from matplotlib import pyplot as plt\n",
    "from scipy import stats as st\n",
    "from scipy import special as sp\n",
    "%matplotlib inline"
   ]
  },
  {
   "cell_type": "markdown",
   "id": "coordinate-senator",
   "metadata": {},
   "source": [
    "## 1 Modelo general\n",
    "\n",
    "Si Su estado de información acerca de las secuencia de **variables de conteo** $y_1,\\ldots,y_n$ es intercambiable, entonces el modelamiento $y_1,\\ldots,y_n$ admite representación jerárquica de la forma:\n",
    "\\begin{align}\n",
    "\ty_i\\mid\\theta &\\stackrel{\\text{iid}}{\\sim}\\textsf{Poisson}(\\theta)\\,,\\quad i = 1,\\ldots,n \\\\\n",
    "\t\\theta &\\sim p(\\theta)\n",
    "\\end{align}\n",
    "Este modelo es potencialmente **restrictivo** por la **relación media-varianza**: $\\textsf{E}(y_i\\mid\\theta) = \\textsf{Var}(y_i\\mid\\theta) = \\theta$. \n",
    "\n",
    "Se recomienda chequear la **calidad del modelo** en términos de **bondad de ajuste** (chequeo de **estadísticos de prueba** relevantes por medio de la **distribución predictiva posterior**).\n",
    "\n",
    "Alternativas: \n",
    "\n",
    "- Distribución Poisson con sobre(sub) dispersión.\n",
    "- Distribución Binomial Negativa.\n",
    "\n",
    "La **distribución muestral (distribución condicional conjunta)** de $\\boldsymbol{y} = (y_1,\\ldots,y_n)$ dado $\\theta$ está dada por\n",
    "$$\n",
    "  p(\\boldsymbol{y}\\mid\\theta) = \\prod_{i=1}^n \\frac{\\theta^{y_i}\\,e^{-\\theta}}{y_i!} = \\frac{\\theta^{s}e^{-n\\theta}}{\\prod_{i=1}^n y_i!}\\,,\n",
    "$$\n",
    "donde $s = \\sum_{i=1}^n y_i$, lo cual indica que $s$ es un **estadístico suficiente** para $\\theta$.\n",
    "\n",
    "Por lo tanto la **distribución posterior** es\n",
    "$$\n",
    "p(\\theta\\mid\\boldsymbol{y}) \\propto \\theta^{s}e^{-n\\theta}p(\\theta)\\,.\n",
    "$$\n",
    "\n",
    "Dado que las $y_i$'s son **condicionalmente i.i.d.** dado $\\theta$ y $s$ es un **estadístico suficiente** para $\\theta$, entonces el modelo es equivalente a\n",
    "\\begin{align*}\n",
    "\ts\\mid\\theta &\\sim \\textsf{Poisson}(n\\theta) \\\\\n",
    "\t\\theta &\\sim p(\\theta) \n",
    "\\end{align*}\n"
   ]
  },
  {
   "cell_type": "markdown",
   "id": "confused-talent",
   "metadata": {},
   "source": [
    "## 2 Modelo Gamma-Poisson\n",
    "\n",
    "La familia de distribuciones **Gamma** es **conjugada** para la distribución muestral **Poisson**.\n",
    "\n",
    "La variable aleatoria $X$ tiene distribución Gamma con parámetros $\\alpha,\\beta > 0$, i.e., $X\\mid\\alpha,\\beta\\sim\\textsf{Gamma}(\\alpha,\\beta)$, si su función de densidad de probabilidad es\n",
    "$$\n",
    "p(x\\mid\\alpha,\\beta) = \\frac{\\beta^\\alpha}{\\Gamma(\\alpha)}\\,x^{\\alpha-1}\\,e^{-\\beta x}\\,,\\quad x>0\\,.\n",
    "$$\n",
    "\n",
    "Así, el **modelo Gamma-Poisson** es\n",
    "\\begin{align*}\n",
    "\ty_i\\mid\\theta&\\stackrel{\\text{iid}}{\\sim}\\textsf{Poisson}(\\theta)\\,,\\quad i = 1,\\ldots,n \\\\\n",
    "\t\\theta &\\sim \\textsf{Gamma}(a,b)\n",
    "\\end{align*}\n",
    "donde $a$ y $b$ con los **hiperparámetros** del modelo.\n",
    "\n",
    "Bajo el **modelo Gamma-Poison** se tiene que la **distribución posterior** es\n",
    "$$\n",
    "\\theta \\mid \\boldsymbol{y} \\sim \\textsf{Gamma}(\\theta\\mid a + s, b+n)\\,,\n",
    "$$\n",
    "donde $s=\\sum_{i=1}^n y_i$, y por lo tanto la **media posterior** es\n",
    "$$\n",
    "        \\textsf{E}(\\theta\\mid \\boldsymbol{y}) = \\frac{a+s}{b+n} = \\frac{b}{b+n}\\cdot \\frac{a}{b}+\\frac{n}{b+n}\\cdot \\frac{s}{n}\\,,\n",
    "$$\n",
    "la cual es un **promedio ponderado** del valor esperado previo y la media muestral.\n",
    "\n",
    "- Tal observación conlleva a la siguiente interpretación de los hiperparámetros: \n",
    "    - $b$ = número previo de observaciones\n",
    "    - $a$ = suma de conteos asociados con $b$ observaciones previas.\n",
    "    - Si $n>>b$, entonces la mayoría de la información sobre $\\theta$ proviene de los datos en lugar de la información previa.\n",
    "\n",
    "También, la **distribución predictiva posterior** es **Binomial Negativa** con parámetros $a+s$ y $b+n$, i.e., $y^*\\mid \\boldsymbol{y}\\sim \\textsf{BN}(a+s,b+n)$:\n",
    "$$\n",
    "p(y^*\\mid \\boldsymbol{y}) = \\frac{\\Gamma(y^* +a+s)}{\\Gamma(a+s)\\Gamma(y^*+1)}\\left[\\frac{b+n}{b+n+1}\\right]^{a+s} \\left[\\frac{1}{b+n+1}\\right]^{y^*}\\,,\\quad y^*=0,1,\\,\\ldots.\n",
    "$$\n",
    "\n",
    "La variable aleatoria $X$ tiene distribución Binomial Negativa con parámetros $\\alpha,\\beta > 0$, i.e., $X\\mid\\alpha,\\beta\\sim\\textsf{BN}(\\alpha,\\beta)$, si su función de masa de probabilidad es\n",
    "$$\n",
    "p(x\\mid\\alpha,\\beta) = \\frac{\\Gamma(x+\\alpha)}{\\Gamma(\\alpha)\\,\\Gamma(x+1)}\\,\\left[\\frac{\\beta}{\\beta+1}\\right]^{\\alpha}\\,\\left[\\frac{1}{\\beta+1}\\right]^x\\,,\\quad x=0,1,\\,\\ldots.\n",
    "$$\n",
    "\n",
    "Por medio de la distribución predictiva posterior se caracterizan diversos aspectos acerca de una observación futura. Por ejemplo, la varianza predictiva $\\textsf{Var}(y^*\\mid \\boldsymbol{y})$ se puede interpretar como una medida de la **incertidumbre posterior acerca de una observación futura** $y^*$. \n",
    "\n",
    "Esto motiva un contraste interesante entre **inferencia** y **predicción**: $\\theta$ (el objetivo inferencial) y $y^*$ (el objetivo predictivo) tienen la misma media posterior, pero la varianza posterior de $y^*$ es mayor:\n",
    "$$\n",
    "\\textsf{E}(\\theta\\mid\\boldsymbol{y}) = \\textsf{E}(y^*\\mid\\boldsymbol{y}) = \\frac{a+s}{b+n}\\,,\n",
    "$$\n",
    "mientras que \n",
    "$$\n",
    "\\textsf{Var}(\\theta\\mid\\boldsymbol{y}) = \\frac{a+s}{b+n}\\left(0 + \\frac{1}{b+n}\\right)\n",
    "\\qquad\\text{y}\\qquad\n",
    "\\textsf{Var}(y^*\\mid\\boldsymbol{y}) = \\frac{a+s}{b+n}\\left(1 + \\frac{1}{b+n}\\right)\\,.\n",
    "$$\n"
   ]
  },
  {
   "cell_type": "markdown",
   "id": "incorrect-blogger",
   "metadata": {},
   "source": [
    "## 3 Ejemplo: Número de hijos y educación\n",
    "\n",
    "COLOMBIA - **Censo Nacional de Población y Vivienda** - CNPV - 2018 disponible en https://microdatos.dane.gov.co/index.php/catalog/643/study-description\n",
    "\n",
    "La tabla de Personas contiene la información de una **muestra aleatoria simple** de personas que residen en hogares particulares o personas que residen en lugares especiales de alojamiento con las características correspondientes al censo.\n",
    "\n",
    "Modelar el **número de hijos** de personas identificadas como: mujer, jefe de hogar, 40 a 44 años, alfabeta, lugar de nacimiento en Colombia, lugar de residencia hace 5 años en Colombia, ningún grupo étnico, informa si tiene hijos o no.\n",
    "\n",
    "Diccionario de datos (ddi-documentation-spanish-643.pdf) disponible en https://microdatos.dane.gov.co/index.php/catalog/643/datafile/F11\n"
   ]
  },
  {
   "cell_type": "code",
   "execution_count": 2,
   "id": "robust-clinton",
   "metadata": {},
   "outputs": [
    {
     "data": {
      "text/plain": [
       "(71814, 48)"
      ]
     },
     "execution_count": 2,
     "metadata": {},
     "output_type": "execute_result"
    }
   ],
   "source": [
    "# datos\n",
    "df = pd.read_csv('CNPV2018_5PER_A2_11_muestra.txt')\n",
    "df.shape"
   ]
  },
  {
   "cell_type": "code",
   "execution_count": 3,
   "id": "exposed-secretariat",
   "metadata": {},
   "outputs": [
    {
     "data": {
      "text/plain": [
       "0.0     49813\n",
       "1.0     16245\n",
       "99.0     1633\n",
       "Name: P_NIVEL_ANOSR, dtype: int64"
      ]
     },
     "execution_count": 3,
     "metadata": {},
     "output_type": "execute_result"
    }
   ],
   "source": [
    "# P_NIVEL_ANOSR: Nivel educativo más alto alcanzado y último año o grado aprobado en ese nivel\n",
    "#   1 Preescolar\n",
    "#   2 Básica primaria\n",
    "#   3 Básica secundaria\n",
    "#   4 Media academica o clasica\n",
    "#   5 Media tecnica\n",
    "#   6 Normalista\n",
    "#   7 Técnica profesional o Tecnológica\n",
    "#   8 Universitario\n",
    "#   9 Especialización, maestría, doctorado\n",
    "#   10 Ninguno\n",
    "#   99 No Informa\n",
    "#   No Aplica\n",
    "# recodificacion\n",
    "df.P_NIVEL_ANOSR = [0 if d in [1,2,3,4,5,6,7,10] else d for d in df.P_NIVEL_ANOSR]\n",
    "df.P_NIVEL_ANOSR = [1 if d in [8,9] else d for d in df.P_NIVEL_ANOSR]\n",
    "# frecuencias\n",
    "df.P_NIVEL_ANOSR.value_counts()"
   ]
  },
  {
   "cell_type": "code",
   "execution_count": 4,
   "id": "statistical-induction",
   "metadata": {},
   "outputs": [
    {
     "data": {
      "text/plain": [
       "2.0     7009\n",
       "1.0     6091\n",
       "3.0     3984\n",
       "4.0     1719\n",
       "5.0      709\n",
       "6.0      363\n",
       "7.0      200\n",
       "8.0      128\n",
       "9.0       82\n",
       "10.0      45\n",
       "12.0      24\n",
       "99.0      22\n",
       "11.0      18\n",
       "13.0      16\n",
       "15.0       8\n",
       "14.0       5\n",
       "18.0       1\n",
       "Name: PA1_THNV, dtype: int64"
      ]
     },
     "execution_count": 4,
     "metadata": {},
     "output_type": "execute_result"
    }
   ],
   "source": [
    "# PA1_THNV: Hijos(as) nacidos vivos\n",
    "# frecuencias\n",
    "df.PA1_THNV.value_counts()"
   ]
  },
  {
   "cell_type": "code",
   "execution_count": 5,
   "id": "processed-enhancement",
   "metadata": {},
   "outputs": [
    {
     "data": {
      "text/plain": [
       "0.0     51390\n",
       "2.0      7009\n",
       "1.0      6091\n",
       "3.0      3984\n",
       "4.0      1719\n",
       "5.0       709\n",
       "6.0       363\n",
       "7.0       200\n",
       "8.0       128\n",
       "9.0        82\n",
       "10.0       45\n",
       "12.0       24\n",
       "99.0       22\n",
       "11.0       18\n",
       "13.0       16\n",
       "15.0        8\n",
       "14.0        5\n",
       "18.0        1\n",
       "Name: PA1_THNV, dtype: int64"
      ]
     },
     "execution_count": 5,
     "metadata": {},
     "output_type": "execute_result"
    }
   ],
   "source": [
    "# no hijos hijos(as) nacidos vivos\n",
    "df['PA1_THNV'] = df['PA1_THNV'].fillna(0)\n",
    "# frecuencias\n",
    "df.PA1_THNV.value_counts()"
   ]
  },
  {
   "cell_type": "code",
   "execution_count": 6,
   "id": "prostate-cabin",
   "metadata": {},
   "outputs": [
    {
     "data": {
      "text/plain": [
       "(70159, 48)"
      ]
     },
     "execution_count": 6,
     "metadata": {},
     "output_type": "execute_result"
    }
   ],
   "source": [
    "# remover datos faltantes\n",
    "df = df[df.P_NIVEL_ANOSR != 99]\n",
    "df = df[df.PA1_THNV != 99]\n",
    "df.shape"
   ]
  },
  {
   "cell_type": "code",
   "execution_count": 7,
   "id": "through-crest",
   "metadata": {},
   "outputs": [
    {
     "data": {
      "text/plain": [
       "False    69694\n",
       "True       465\n",
       "dtype: int64"
      ]
     },
     "execution_count": 7,
     "metadata": {},
     "output_type": "execute_result"
    }
   ],
   "source": [
    "# filtro\n",
    "def is_in(li,s):\n",
    "    return [val in s for val in li]\n",
    "indices = (df.P_PARENTESCOR == 1) & (df.P_SEXO == 2) & (df.P_EDADR == 9) & (df.PA1_GRP_ETNIC == 6) & is_in(df.PA_LUG_NAC, [2,3]) & is_in(df.PA_VIVIA_5ANOS, [2,3]) & is_in(df.PA_HNV, [1,2]) & (df.P_ALFABETA == 1)\n",
    "# frecuencias\n",
    "indices.value_counts()"
   ]
  },
  {
   "cell_type": "code",
   "execution_count": 8,
   "id": "julian-provincial",
   "metadata": {},
   "outputs": [],
   "source": [
    "# y1 : numero de hijos, mujeres de 40 años, sin pregrado o menos\n",
    "# y2 : numero de hijos, mujeres de 40 años, con pregrado o mas\n",
    "y1 = df.PA1_THNV[indices & (df.P_NIVEL_ANOSR == 0)]\n",
    "y2 = df.PA1_THNV[indices & (df.P_NIVEL_ANOSR == 1)]"
   ]
  },
  {
   "cell_type": "code",
   "execution_count": 9,
   "id": "opposite-ancient",
   "metadata": {},
   "outputs": [
    {
     "name": "stdout",
     "output_type": "stream",
     "text": [
      "355\n"
     ]
    }
   ],
   "source": [
    "# tamaños de muestra\n",
    "n1 = len(y1)\n",
    "print(n1)"
   ]
  },
  {
   "cell_type": "code",
   "execution_count": 10,
   "id": "black-beaver",
   "metadata": {},
   "outputs": [
    {
     "name": "stdout",
     "output_type": "stream",
     "text": [
      "110\n"
     ]
    }
   ],
   "source": [
    "n2 = len(y2)\n",
    "print(n2)"
   ]
  },
  {
   "cell_type": "code",
   "execution_count": 11,
   "id": "closing-alarm",
   "metadata": {},
   "outputs": [
    {
     "name": "stdout",
     "output_type": "stream",
     "text": [
      "748.0\n"
     ]
    }
   ],
   "source": [
    "# estadisticos suficientes\n",
    "s1 = np.sum(y1)\n",
    "print(s1)"
   ]
  },
  {
   "cell_type": "code",
   "execution_count": 12,
   "id": "satellite-magic",
   "metadata": {},
   "outputs": [
    {
     "name": "stdout",
     "output_type": "stream",
     "text": [
      "127.0\n"
     ]
    }
   ],
   "source": [
    "s2 = np.sum(y2)\n",
    "print(s2)"
   ]
  },
  {
   "cell_type": "code",
   "execution_count": 13,
   "id": "above-panic",
   "metadata": {},
   "outputs": [],
   "source": [
    "# relacion media-varianza\n",
    "# sobredispersion\n",
    "#   varianza superior a la esperada\n",
    "#   alternativa: Binomial-Negativa\n",
    "# subdispersion\n",
    "#   varianza menor a la esperada\n",
    "#   alternativa: Comway-Maxwell-Poisson"
   ]
  },
  {
   "cell_type": "code",
   "execution_count": 14,
   "id": "sacred-beauty",
   "metadata": {},
   "outputs": [
    {
     "name": "stdout",
     "output_type": "stream",
     "text": [
      "1.3087393612289036\n"
     ]
    }
   ],
   "source": [
    "r1 = np.mean(y1)/np.var(y1,ddof = 1)\n",
    "print(r1)"
   ]
  },
  {
   "cell_type": "code",
   "execution_count": 15,
   "id": "twelve-lending",
   "metadata": {},
   "outputs": [
    {
     "name": "stdout",
     "output_type": "stream",
     "text": [
      "1.205731208082919\n"
     ]
    }
   ],
   "source": [
    "r2 = np.mean(y2)/np.var(y2,ddof = 1)\n",
    "print(r2)"
   ]
  },
  {
   "cell_type": "code",
   "execution_count": 16,
   "id": "consecutive-banana",
   "metadata": {},
   "outputs": [
    {
     "data": {
      "text/html": [
       "<div>\n",
       "<style scoped>\n",
       "    .dataframe tbody tr th:only-of-type {\n",
       "        vertical-align: middle;\n",
       "    }\n",
       "\n",
       "    .dataframe tbody tr th {\n",
       "        vertical-align: top;\n",
       "    }\n",
       "\n",
       "    .dataframe thead th {\n",
       "        text-align: right;\n",
       "    }\n",
       "</style>\n",
       "<table border=\"1\" class=\"dataframe\">\n",
       "  <thead>\n",
       "    <tr style=\"text-align: right;\">\n",
       "      <th></th>\n",
       "      <th>PA1_THNV</th>\n",
       "    </tr>\n",
       "  </thead>\n",
       "  <tbody>\n",
       "    <tr>\n",
       "      <th>count</th>\n",
       "      <td>355.000000</td>\n",
       "    </tr>\n",
       "    <tr>\n",
       "      <th>mean</th>\n",
       "      <td>2.107042</td>\n",
       "    </tr>\n",
       "    <tr>\n",
       "      <th>std</th>\n",
       "      <td>1.268849</td>\n",
       "    </tr>\n",
       "    <tr>\n",
       "      <th>min</th>\n",
       "      <td>0.000000</td>\n",
       "    </tr>\n",
       "    <tr>\n",
       "      <th>25%</th>\n",
       "      <td>1.000000</td>\n",
       "    </tr>\n",
       "    <tr>\n",
       "      <th>50%</th>\n",
       "      <td>2.000000</td>\n",
       "    </tr>\n",
       "    <tr>\n",
       "      <th>75%</th>\n",
       "      <td>3.000000</td>\n",
       "    </tr>\n",
       "    <tr>\n",
       "      <th>max</th>\n",
       "      <td>6.000000</td>\n",
       "    </tr>\n",
       "  </tbody>\n",
       "</table>\n",
       "</div>"
      ],
      "text/plain": [
       "         PA1_THNV\n",
       "count  355.000000\n",
       "mean     2.107042\n",
       "std      1.268849\n",
       "min      0.000000\n",
       "25%      1.000000\n",
       "50%      2.000000\n",
       "75%      3.000000\n",
       "max      6.000000"
      ]
     },
     "execution_count": 16,
     "metadata": {},
     "output_type": "execute_result"
    }
   ],
   "source": [
    "# analisis exploratorio de datos\n",
    "pd.DataFrame(y1).describe()"
   ]
  },
  {
   "cell_type": "code",
   "execution_count": 17,
   "id": "altered-brief",
   "metadata": {},
   "outputs": [
    {
     "data": {
      "text/html": [
       "<div>\n",
       "<style scoped>\n",
       "    .dataframe tbody tr th:only-of-type {\n",
       "        vertical-align: middle;\n",
       "    }\n",
       "\n",
       "    .dataframe tbody tr th {\n",
       "        vertical-align: top;\n",
       "    }\n",
       "\n",
       "    .dataframe thead th {\n",
       "        text-align: right;\n",
       "    }\n",
       "</style>\n",
       "<table border=\"1\" class=\"dataframe\">\n",
       "  <thead>\n",
       "    <tr style=\"text-align: right;\">\n",
       "      <th></th>\n",
       "      <th>PA1_THNV</th>\n",
       "    </tr>\n",
       "  </thead>\n",
       "  <tbody>\n",
       "    <tr>\n",
       "      <th>count</th>\n",
       "      <td>110.000000</td>\n",
       "    </tr>\n",
       "    <tr>\n",
       "      <th>mean</th>\n",
       "      <td>1.154545</td>\n",
       "    </tr>\n",
       "    <tr>\n",
       "      <th>std</th>\n",
       "      <td>0.978544</td>\n",
       "    </tr>\n",
       "    <tr>\n",
       "      <th>min</th>\n",
       "      <td>0.000000</td>\n",
       "    </tr>\n",
       "    <tr>\n",
       "      <th>25%</th>\n",
       "      <td>0.000000</td>\n",
       "    </tr>\n",
       "    <tr>\n",
       "      <th>50%</th>\n",
       "      <td>1.000000</td>\n",
       "    </tr>\n",
       "    <tr>\n",
       "      <th>75%</th>\n",
       "      <td>2.000000</td>\n",
       "    </tr>\n",
       "    <tr>\n",
       "      <th>max</th>\n",
       "      <td>4.000000</td>\n",
       "    </tr>\n",
       "  </tbody>\n",
       "</table>\n",
       "</div>"
      ],
      "text/plain": [
       "         PA1_THNV\n",
       "count  110.000000\n",
       "mean     1.154545\n",
       "std      0.978544\n",
       "min      0.000000\n",
       "25%      0.000000\n",
       "50%      1.000000\n",
       "75%      2.000000\n",
       "max      4.000000"
      ]
     },
     "execution_count": 17,
     "metadata": {},
     "output_type": "execute_result"
    }
   ],
   "source": [
    "pd.DataFrame(y2).describe()"
   ]
  },
  {
   "cell_type": "code",
   "execution_count": 18,
   "id": "governmental-christopher",
   "metadata": {},
   "outputs": [
    {
     "data": {
      "text/plain": [
       "<AxesSubplot:xlabel='No. de hijos', ylabel='F. Relativa'>"
      ]
     },
     "execution_count": 18,
     "metadata": {},
     "output_type": "execute_result"
    },
    {
     "data": {
      "image/png": "[encoded data removed]",
      "text/plain": [
       "<Figure size 576x432 with 1 Axes>"
      ]
     },
     "metadata": {
      "needs_background": "light"
     },
     "output_type": "display_data"
    }
   ],
   "source": [
    "# distribucion de frecuencias\n",
    "y1.value_counts()[range(7)]\n",
    "tmp_df = pd.DataFrame({'Menos que preg.':y1.value_counts(normalize = True)[range(int(np.max(y1))+1)], \n",
    "                       'Preg. o más': y2.value_counts(normalize = True)[range(int(np.max(y2))+1)]}, \n",
    "                      index = range(7))\n",
    "tmp_df.plot.bar(rot = 0, xlabel = 'No. de hijos', ylabel = 'F. Relativa', \n",
    "                color = {'Menos que preg.':'#EB1956','Preg. o más':'#13A0D4'}, width = 0.2,figsize = (8,6))"
   ]
  },
  {
   "cell_type": "markdown",
   "id": "quick-omega",
   "metadata": {},
   "source": [
    "### 3.1 Distribuciones posterior y predictiva posterior"
   ]
  },
  {
   "cell_type": "code",
   "execution_count": 19,
   "id": "photographic-penguin",
   "metadata": {},
   "outputs": [
    {
     "data": {
      "text/plain": [
       "2.0"
      ]
     },
     "execution_count": 19,
     "metadata": {},
     "output_type": "execute_result"
    }
   ],
   "source": [
    "# previa Gamma(2,1)\n",
    "a = 2\n",
    "b = 1\n",
    "# media de theta a priori\n",
    "a/b"
   ]
  },
  {
   "cell_type": "code",
   "execution_count": 20,
   "id": "useful-wheat",
   "metadata": {},
   "outputs": [
    {
     "data": {
      "text/plain": [
       "0.7071067811865476"
      ]
     },
     "execution_count": 20,
     "metadata": {},
     "output_type": "execute_result"
    }
   ],
   "source": [
    "# CV de theta a priori\n",
    "np.sqrt(a/b**2)/(a/b)"
   ]
  },
  {
   "cell_type": "code",
   "execution_count": 21,
   "id": "clinical-barrel",
   "metadata": {},
   "outputs": [
    {
     "name": "stdout",
     "output_type": "stream",
     "text": [
      "750.0\n"
     ]
    }
   ],
   "source": [
    "# parametros de la posterior\n",
    "ap1 = a + s1\n",
    "print(ap1)"
   ]
  },
  {
   "cell_type": "code",
   "execution_count": 22,
   "id": "sporting-quarterly",
   "metadata": {},
   "outputs": [
    {
     "name": "stdout",
     "output_type": "stream",
     "text": [
      "356\n"
     ]
    }
   ],
   "source": [
    "bp1 = b + n1\n",
    "print(bp1)"
   ]
  },
  {
   "cell_type": "code",
   "execution_count": 23,
   "id": "complicated-greeting",
   "metadata": {},
   "outputs": [
    {
     "name": "stdout",
     "output_type": "stream",
     "text": [
      "129.0\n"
     ]
    }
   ],
   "source": [
    "ap2 = a + s2\n",
    "print(ap2)"
   ]
  },
  {
   "cell_type": "code",
   "execution_count": 24,
   "id": "colored-semester",
   "metadata": {},
   "outputs": [
    {
     "name": "stdout",
     "output_type": "stream",
     "text": [
      "111\n"
     ]
    }
   ],
   "source": [
    "bp2 = b + n2\n",
    "print(bp2)"
   ]
  },
  {
   "cell_type": "code",
   "execution_count": 25,
   "id": "short-williams",
   "metadata": {},
   "outputs": [
    {
     "data": {
      "image/png": "[encoded data removed]",
      "text/plain": [
       "<Figure size 936x432 with 2 Axes>"
      ]
     },
     "metadata": {
      "needs_background": "light"
     },
     "output_type": "display_data"
    }
   ],
   "source": [
    "# grafico\n",
    "f, axes = plt.subplots(1, 2, figsize = (13,6))\n",
    "plt.subplots_adjust(wspace = 0.2, hspace = 0.4)\n",
    "\n",
    "theta = np.linspace(start = 0, stop = 5, num = 1000)\n",
    "axes[0].set_xlabel(r'$\\theta$')\n",
    "axes[0].set_ylabel(r'$p(\\theta|y)$')\n",
    "axes[0].plot(theta,st.gamma.pdf(x = theta,a = ap1, scale = 1/bp1), color = '#EB1956', label = 'Menos que preg.')\n",
    "axes[0].plot(theta,st.gamma.pdf(x = theta,a = ap2, scale = 1/bp2), color = '#13A0D4', label = 'Preg. o más')\n",
    "axes[0].plot(theta,st.gamma.pdf(x = theta,a = a, scale = 1/b), color = '#000000', label = 'Previa')\n",
    "axes[0].axhline(y = 0, color = '#000000')\n",
    "axes[0].set_title('Posterior')\n",
    "axes[0].legend(loc = 0, frameon = False)\n",
    "\n",
    "y = np.linspace(0,12,13); width = 0.15\n",
    "axes[1].set_xlabel('y*')\n",
    "axes[1].set_ylabel('p(y*|y)')\n",
    "axes[1].bar(y - 0.5*width,st.nbinom.pmf(k = y, n = ap1, p = 1/(1+1/bp1)), width, color = '#EB1956')\n",
    "axes[1].bar(y + 0.5*width,st.nbinom.pmf(k = y, n = ap2, p = 1/(1+1/bp2)), width, color = '#13A0D4')\n",
    "axes[1].set_title('Predictiva Posterior')\n",
    "\n",
    "plt.show()"
   ]
  },
  {
   "cell_type": "code",
   "execution_count": 26,
   "id": "lesser-walter",
   "metadata": {},
   "outputs": [
    {
     "data": {
      "text/html": [
       "<div>\n",
       "<style scoped>\n",
       "    .dataframe tbody tr th:only-of-type {\n",
       "        vertical-align: middle;\n",
       "    }\n",
       "\n",
       "    .dataframe tbody tr th {\n",
       "        vertical-align: top;\n",
       "    }\n",
       "\n",
       "    .dataframe thead th {\n",
       "        text-align: right;\n",
       "    }\n",
       "</style>\n",
       "<table border=\"1\" class=\"dataframe\">\n",
       "  <thead>\n",
       "    <tr style=\"text-align: right;\">\n",
       "      <th></th>\n",
       "      <th>Media</th>\n",
       "      <th>Q2.5%</th>\n",
       "      <th>Q97.5%</th>\n",
       "    </tr>\n",
       "  </thead>\n",
       "  <tbody>\n",
       "    <tr>\n",
       "      <th>Menos que pregrado</th>\n",
       "      <td>2.107</td>\n",
       "      <td>1.959</td>\n",
       "      <td>2.260</td>\n",
       "    </tr>\n",
       "    <tr>\n",
       "      <th>Pregrado o más</th>\n",
       "      <td>1.162</td>\n",
       "      <td>0.970</td>\n",
       "      <td>1.371</td>\n",
       "    </tr>\n",
       "  </tbody>\n",
       "</table>\n",
       "</div>"
      ],
      "text/plain": [
       "                    Media  Q2.5%  Q97.5%\n",
       "Menos que pregrado  2.107  1.959   2.260\n",
       "Pregrado o más      1.162  0.970   1.371"
      ]
     },
     "execution_count": 26,
     "metadata": {},
     "output_type": "execute_result"
    }
   ],
   "source": [
    "# media posterior e intervalo de credibilidad\n",
    "tab = [[ap1/bp1] + list(st.gamma.ppf(q = [0.025,0.975], a = ap1, scale = 1/bp1)),\n",
    "       [ap2/bp2] + list(st.gamma.ppf(q = [0.025,0.975], a = ap2, scale = 1/bp2))]\n",
    "tab = pd.DataFrame(data = tab,index = [\"Menos que pregrado\", \"Pregrado o más\"], columns = [\"Media\", \"Q2.5%\", \"Q97.5%\"])\n",
    "round(tab, 3)"
   ]
  },
  {
   "cell_type": "code",
   "execution_count": 27,
   "id": "played-device",
   "metadata": {},
   "outputs": [
    {
     "data": {
      "text/html": [
       "<div>\n",
       "<style scoped>\n",
       "    .dataframe tbody tr th:only-of-type {\n",
       "        vertical-align: middle;\n",
       "    }\n",
       "\n",
       "    .dataframe tbody tr th {\n",
       "        vertical-align: top;\n",
       "    }\n",
       "\n",
       "    .dataframe thead th {\n",
       "        text-align: right;\n",
       "    }\n",
       "</style>\n",
       "<table border=\"1\" class=\"dataframe\">\n",
       "  <thead>\n",
       "    <tr style=\"text-align: right;\">\n",
       "      <th></th>\n",
       "      <th>Var. Parámetro</th>\n",
       "      <th>Var. Predictiva</th>\n",
       "    </tr>\n",
       "  </thead>\n",
       "  <tbody>\n",
       "    <tr>\n",
       "      <th>Menos que pregrado</th>\n",
       "      <td>0.006</td>\n",
       "      <td>2.113</td>\n",
       "    </tr>\n",
       "    <tr>\n",
       "      <th>Pregrado o más</th>\n",
       "      <td>0.010</td>\n",
       "      <td>1.173</td>\n",
       "    </tr>\n",
       "  </tbody>\n",
       "</table>\n",
       "</div>"
      ],
      "text/plain": [
       "                    Var. Parámetro  Var. Predictiva\n",
       "Menos que pregrado           0.006            2.113\n",
       "Pregrado o más               0.010            1.173"
      ]
     },
     "execution_count": 27,
     "metadata": {},
     "output_type": "execute_result"
    }
   ],
   "source": [
    "# varianza posterior de theta y de y^*\n",
    "tab = [[(a+s1)/(b+n1)*(0+1/(b+n1)), ((a+s1)/(b+n1))*(1+1/(b+n1))],\n",
    "       [(a+s2)/(b+n2)*(0+1/(b+n2)), ((a+s2)/(b+n2))*(1+1/(b+n2))]]\n",
    "tab = pd.DataFrame(data = tab,index = [\"Menos que pregrado\", \"Pregrado o más\"], columns = [\"Var. Parámetro\", \"Var. Predictiva\"])\n",
    "round(tab, 3)"
   ]
  },
  {
   "cell_type": "markdown",
   "id": "alike-brother",
   "metadata": {},
   "source": [
    "### 3.2 Cálculo de probabilidades"
   ]
  },
  {
   "cell_type": "code",
   "execution_count": 28,
   "id": "laughing-eagle",
   "metadata": {},
   "outputs": [
    {
     "data": {
      "text/plain": [
       "0.925"
      ]
     },
     "execution_count": 28,
     "metadata": {},
     "output_type": "execute_result"
    }
   ],
   "source": [
    "# probabilidad posterior de que theta_j > 2\n",
    "# ¿como se lleva a cabo el calculo de manera analitica?\n",
    "np.random.seed(1234)\n",
    "th1_mc = st.gamma.rvs(a = ap1, scale = 1/bp1, size = 10000)\n",
    "th2_mc = st.gamma.rvs(a = ap2, scale = 1/bp2, size = 10000)\n",
    "round(np.mean(th1_mc > 2), 3)"
   ]
  },
  {
   "cell_type": "code",
   "execution_count": 29,
   "id": "dirty-slope",
   "metadata": {},
   "outputs": [
    {
     "data": {
      "text/plain": [
       "0.0"
      ]
     },
     "execution_count": 29,
     "metadata": {},
     "output_type": "execute_result"
    }
   ],
   "source": [
    "round(np.mean(th2_mc > 2), 3)"
   ]
  },
  {
   "cell_type": "code",
   "execution_count": 30,
   "id": "individual-reach",
   "metadata": {},
   "outputs": [
    {
     "data": {
      "text/plain": [
       "0.354"
      ]
     },
     "execution_count": 30,
     "metadata": {},
     "output_type": "execute_result"
    }
   ],
   "source": [
    "# probabilidad posterior de que y_j^* > 2\n",
    "np.random.seed(1234)\n",
    "y1_mc = st.poisson.rvs(mu = th1_mc, size = 10000)\n",
    "y2_mc = st.poisson.rvs(mu = th2_mc, size = 10000)\n",
    "round(np.mean(y1_mc > 2), 3)"
   ]
  },
  {
   "cell_type": "code",
   "execution_count": 31,
   "id": "progressive-substance",
   "metadata": {},
   "outputs": [
    {
     "data": {
      "text/plain": [
       "0.114"
      ]
     },
     "execution_count": 31,
     "metadata": {},
     "output_type": "execute_result"
    }
   ],
   "source": [
    "round(np.mean(y2_mc > 2), 3)"
   ]
  },
  {
   "cell_type": "markdown",
   "id": "alien-account",
   "metadata": {},
   "source": [
    "### 3.3 Comparación de grupos"
   ]
  },
  {
   "cell_type": "code",
   "execution_count": 32,
   "id": "matched-humanitarian",
   "metadata": {},
   "outputs": [
    {
     "name": "stdout",
     "output_type": "stream",
     "text": [
      "1.0\n"
     ]
    }
   ],
   "source": [
    "# probabilidades\n",
    "# ¿como se lleva a cabo el calculo de manera analitica?\n",
    "print(np.mean(th1_mc > th2_mc))"
   ]
  },
  {
   "cell_type": "code",
   "execution_count": 33,
   "id": "induced-native",
   "metadata": {},
   "outputs": [
    {
     "name": "stdout",
     "output_type": "stream",
     "text": [
      "0.5854\n"
     ]
    }
   ],
   "source": [
    "print(np.mean(y1_mc > y2_mc))"
   ]
  },
  {
   "cell_type": "code",
   "execution_count": 34,
   "id": "statewide-opening",
   "metadata": {},
   "outputs": [
    {
     "data": {
      "text/html": [
       "<div>\n",
       "<style scoped>\n",
       "    .dataframe tbody tr th:only-of-type {\n",
       "        vertical-align: middle;\n",
       "    }\n",
       "\n",
       "    .dataframe tbody tr th {\n",
       "        vertical-align: top;\n",
       "    }\n",
       "\n",
       "    .dataframe thead th {\n",
       "        text-align: right;\n",
       "    }\n",
       "</style>\n",
       "<table border=\"1\" class=\"dataframe\">\n",
       "  <thead>\n",
       "    <tr style=\"text-align: right;\">\n",
       "      <th></th>\n",
       "      <th>Estimación</th>\n",
       "      <th>CV</th>\n",
       "      <th>L. Inf.</th>\n",
       "      <th>L. Sup.</th>\n",
       "    </tr>\n",
       "  </thead>\n",
       "  <tbody>\n",
       "    <tr>\n",
       "      <th>Bayesiana</th>\n",
       "      <td>0.948</td>\n",
       "      <td>0.134</td>\n",
       "      <td>0.694</td>\n",
       "      <td>1.186</td>\n",
       "    </tr>\n",
       "    <tr>\n",
       "      <th>Frec. Asintótico</th>\n",
       "      <td>0.952</td>\n",
       "      <td>0.120</td>\n",
       "      <td>0.728</td>\n",
       "      <td>1.177</td>\n",
       "    </tr>\n",
       "    <tr>\n",
       "      <th>Frec. Boostrap</th>\n",
       "      <td>0.952</td>\n",
       "      <td>0.120</td>\n",
       "      <td>0.726</td>\n",
       "      <td>1.178</td>\n",
       "    </tr>\n",
       "  </tbody>\n",
       "</table>\n",
       "</div>"
      ],
      "text/plain": [
       "                  Estimación     CV  L. Inf.  L. Sup.\n",
       "Bayesiana              0.948  0.134    0.694    1.186\n",
       "Frec. Asintótico       0.952  0.120    0.728    1.177\n",
       "Frec. Boostrap         0.952  0.120    0.726    1.178"
      ]
     },
     "execution_count": 34,
     "metadata": {},
     "output_type": "execute_result"
    }
   ],
   "source": [
    "# inferencia bayesiana\n",
    "est_B = np.mean(th1_mc - th2_mc)\n",
    "cv_B = np.std(th1_mc - th2_mc)/np.mean(th1_mc - th2_mc)\n",
    "ic_B = np.quantile(th1_mc - th2_mc, q = [0.025,0.975])\n",
    "# inferencia frecuentista (asintotica)\n",
    "yb1 = np.mean(y1)\n",
    "yb2 = np.mean(y2)\n",
    "sd1 = np.std(y1)\n",
    "sd2 = np.std(y2)\n",
    "est_F1 = yb1 - yb2\n",
    "cv_F1 = np.sqrt(sd1**2/n1 + sd2**2/n2)/(yb1 - yb2)\n",
    "ic_F1 = yb1 - yb2 + np.array([-1,1])*st.norm.ppf(0.975)*np.sqrt(sd1**2/n1 + sd2**2/n2)\n",
    "# inferencia frecuentista (boostrap)\n",
    "np.random.seed(1234)\n",
    "out = []\n",
    "for i in range(10000):\n",
    "    yy1 = np.random.choice(y1, size = n1)\n",
    "    yy2 = np.random.choice(y2, size = n2)\n",
    "    out.append(np.mean(yy1) - np.mean(yy2))\n",
    "out = np.array(out)\n",
    "est_F2 = np.mean(out)\n",
    "cv_F2 = np.std(out)/np.mean(out)\n",
    "ic_F2 = np.quantile(out,q = [0.025,0.975])\n",
    "# resultados\n",
    "tab = pd.DataFrame(data = [[est_B, cv_B] + list(ic_B),\n",
    "                           [est_F1, cv_F1] + list(ic_F1),\n",
    "                           [est_F2, cv_F2] + list(ic_F2)],\n",
    "                   columns = [\"Estimación\", \"CV\", \"L. Inf.\", \"L. Sup.\"],\n",
    "                   index = [\"Bayesiana\", \"Frec. Asintótico\", \"Frec. Boostrap\"])\n",
    "round(tab,3)"
   ]
  },
  {
   "cell_type": "markdown",
   "id": "contemporary-recipient",
   "metadata": {},
   "source": [
    "\n",
    "¡Cuidado! Una evidencia fuerte de una diferencia entre dos poblaciones **no implica necesariamente** que la diferencia en términos prácticos también sea grande.\n"
   ]
  },
  {
   "cell_type": "markdown",
   "id": "occasional-kinase",
   "metadata": {},
   "source": [
    "## 4 Ejemplo: Número de hijos y educación"
   ]
  },
  {
   "cell_type": "code",
   "execution_count": 35,
   "id": "answering-bracket",
   "metadata": {},
   "outputs": [
    {
     "data": {
      "text/plain": [
       "False    65053\n",
       "True      5106\n",
       "dtype: int64"
      ]
     },
     "execution_count": 35,
     "metadata": {},
     "output_type": "execute_result"
    }
   ],
   "source": [
    "# filtro\n",
    "indices = (df.P_PARENTESCOR == 1) & (df.P_SEXO == 2) & (df.PA1_GRP_ETNIC == 6) & is_in(df.PA_LUG_NAC, [2,3]) & is_in(df.PA_VIVIA_5ANOS, [2,3]) & is_in(df.PA_HNV, [1,2]) & (df.P_ALFABETA == 1)\n",
    "indices.value_counts()"
   ]
  },
  {
   "cell_type": "code",
   "execution_count": 36,
   "id": "driven-hanging",
   "metadata": {},
   "outputs": [
    {
     "data": {
      "text/html": [
       "<div>\n",
       "<style scoped>\n",
       "    .dataframe tbody tr th:only-of-type {\n",
       "        vertical-align: middle;\n",
       "    }\n",
       "\n",
       "    .dataframe tbody tr th {\n",
       "        vertical-align: top;\n",
       "    }\n",
       "\n",
       "    .dataframe thead th {\n",
       "        text-align: right;\n",
       "    }\n",
       "</style>\n",
       "<table border=\"1\" class=\"dataframe\">\n",
       "  <thead>\n",
       "    <tr style=\"text-align: right;\">\n",
       "      <th></th>\n",
       "      <th>Estimación</th>\n",
       "      <th>CV</th>\n",
       "      <th>L. Inf.</th>\n",
       "      <th>L. Sup.</th>\n",
       "    </tr>\n",
       "  </thead>\n",
       "  <tbody>\n",
       "    <tr>\n",
       "      <th>Q5</th>\n",
       "      <td>0.533</td>\n",
       "      <td>0.133</td>\n",
       "      <td>0.393</td>\n",
       "      <td>0.674</td>\n",
       "    </tr>\n",
       "    <tr>\n",
       "      <th>Q6</th>\n",
       "      <td>0.850</td>\n",
       "      <td>0.103</td>\n",
       "      <td>0.680</td>\n",
       "      <td>1.023</td>\n",
       "    </tr>\n",
       "    <tr>\n",
       "      <th>Q7</th>\n",
       "      <td>1.023</td>\n",
       "      <td>0.104</td>\n",
       "      <td>0.810</td>\n",
       "      <td>1.233</td>\n",
       "    </tr>\n",
       "    <tr>\n",
       "      <th>Q8</th>\n",
       "      <td>1.116</td>\n",
       "      <td>0.105</td>\n",
       "      <td>0.883</td>\n",
       "      <td>1.343</td>\n",
       "    </tr>\n",
       "    <tr>\n",
       "      <th>Q9</th>\n",
       "      <td>0.943</td>\n",
       "      <td>0.137</td>\n",
       "      <td>0.689</td>\n",
       "      <td>1.193</td>\n",
       "    </tr>\n",
       "    <tr>\n",
       "      <th>Q10</th>\n",
       "      <td>1.108</td>\n",
       "      <td>0.132</td>\n",
       "      <td>0.809</td>\n",
       "      <td>1.380</td>\n",
       "    </tr>\n",
       "    <tr>\n",
       "      <th>Q11</th>\n",
       "      <td>0.984</td>\n",
       "      <td>0.141</td>\n",
       "      <td>0.707</td>\n",
       "      <td>1.251</td>\n",
       "    </tr>\n",
       "    <tr>\n",
       "      <th>Q12</th>\n",
       "      <td>1.161</td>\n",
       "      <td>0.134</td>\n",
       "      <td>0.844</td>\n",
       "      <td>1.456</td>\n",
       "    </tr>\n",
       "    <tr>\n",
       "      <th>Q13</th>\n",
       "      <td>1.154</td>\n",
       "      <td>0.143</td>\n",
       "      <td>0.826</td>\n",
       "      <td>1.467</td>\n",
       "    </tr>\n",
       "    <tr>\n",
       "      <th>Q14</th>\n",
       "      <td>0.870</td>\n",
       "      <td>0.218</td>\n",
       "      <td>0.490</td>\n",
       "      <td>1.230</td>\n",
       "    </tr>\n",
       "  </tbody>\n",
       "</table>\n",
       "</div>"
      ],
      "text/plain": [
       "     Estimación     CV  L. Inf.  L. Sup.\n",
       "Q5        0.533  0.133    0.393    0.674\n",
       "Q6        0.850  0.103    0.680    1.023\n",
       "Q7        1.023  0.104    0.810    1.233\n",
       "Q8        1.116  0.105    0.883    1.343\n",
       "Q9        0.943  0.137    0.689    1.193\n",
       "Q10       1.108  0.132    0.809    1.380\n",
       "Q11       0.984  0.141    0.707    1.251\n",
       "Q12       1.161  0.134    0.844    1.456\n",
       "Q13       1.154  0.143    0.826    1.467\n",
       "Q14       0.870  0.218    0.490    1.230"
      ]
     },
     "execution_count": 36,
     "metadata": {},
     "output_type": "execute_result"
    }
   ],
   "source": [
    "# previa  Gamma(2,1)\n",
    "a = 2\n",
    "b = 1\n",
    "# P_EDADR: Edad en Grupos Quinquenales\n",
    "#   1 de 00 A 04 Años\n",
    "#   2 de 05 A 09 Años\n",
    "#   3 de 10 A 14 Años\n",
    "#   4 de 15 A 19 Años\n",
    "#   5 de 20 A 24 Años\n",
    "#   6 de 25 A 29 Años\n",
    "#   7 de 30 A 34 Años\n",
    "#   8 de 35 A 39 Años\n",
    "#   9 de 40 A 44 Años\n",
    "#   10 de 45 A 49 Años\n",
    "#   11 de 50 A 54 Años\n",
    "#   12 de 55 A 59 Años\n",
    "#   13 de 60 A 64 Años\n",
    "#   14 de 65 A 69 Años\n",
    "#   15 de 70 A 74 Años\n",
    "#   16 de 75 A 79 Años\n",
    "#   17 de 80 A 84 Años\n",
    "#   18 de 85 A 89 Años\n",
    "#   19 de 90 A 94 Años\n",
    "#   20 de 95 A 99 Años\n",
    "#   21 de 100 y más Años\n",
    "out = []\n",
    "np.random.seed(1234)\n",
    "for k in np.linspace(5,14,10):\n",
    "    # datos\n",
    "    y1 = df.PA1_THNV[indices & (df.P_EDADR == k) & (df.P_NIVEL_ANOSR == 0)] # sin\n",
    "    y2 = df.PA1_THNV[indices & (df.P_EDADR == k) & (df.P_NIVEL_ANOSR == 1)] # con\n",
    "    # tamaños de muestra\n",
    "    n1 = len(y1)\n",
    "    n2 = len(y2)\n",
    "    # estadisticos suficientes\n",
    "    s1 = np.sum(y1)\n",
    "    s2 = np.sum(y2)\n",
    "    # parametros de la posterior\n",
    "    ap1 = a + s1\n",
    "    bp1 = b + n1\n",
    "    ap2 = a + s2\n",
    "    bp2 = b + n2\n",
    "    # muestras distribucion posterior\n",
    "    th1_mc = st.gamma.rvs(a = ap1, scale = 1/bp1, size = 10000)\n",
    "    th2_mc = st.gamma.rvs(a = ap2, scale = 1/bp2, size = 10000)\n",
    "    # inferencia bayesiana\n",
    "    est = np.mean(th1_mc - th2_mc)\n",
    "    cv  = np.std(th1_mc - th2_mc)/np.mean(th1_mc - th2_mc)\n",
    "    ic  = np.quantile(th1_mc - th2_mc, q = [.025,.975])\n",
    "    # output\n",
    "    out.append([est, cv] + list(ic))\n",
    "out = pd.DataFrame(data = out, columns = [\"Estimación\", \"CV\", \"L. Inf.\", \"L. Sup.\"],\n",
    "                  index = [\"Q\" + str(int(i)) for i in np.linspace(5,14,10)])\n",
    "round(out,3)"
   ]
  },
  {
   "cell_type": "code",
   "execution_count": 37,
   "id": "metric-butter",
   "metadata": {},
   "outputs": [
    {
     "data": {
      "image/png": "[encoded data removed]",
      "text/plain": [
       "<Figure size 600x400 with 1 Axes>"
      ]
     },
     "metadata": {
      "needs_background": "light"
     },
     "output_type": "display_data"
    }
   ],
   "source": [
    "f = plt.figure(figsize = (6,4), dpi = 100)\n",
    "axes = f.add_axes([0.1,0.1,0.9,0.9])\n",
    "axes.set_xlabel('Edad en Grupos Quinquenales')\n",
    "axes.set_ylabel(r'$\\theta$')\n",
    "axes.grid(axis = 'x', color = '#eeeeee')  #, dashes = range(10))\n",
    "axes.vlines(range(10), ymin = out[\"L. Inf.\"], ymax = out[\"L. Sup.\"], color = '#000000', linewidth = 1)\n",
    "axes.scatter(range(10), out['Estimación'], color = '#000000')\n",
    "axes.plot(range(10), out['Estimación'], linewidth = 1)\n",
    "axes.axhline(y = 0, ls = '--', color = '#000000', linewidth = 1)\n",
    "axes.set_ylim([-0.1,2.1])\n",
    "axes.set_xticks(ticks = range(10))\n",
    "plt.show()"
   ]
  },
  {
   "cell_type": "code",
   "execution_count": 38,
   "id": "proprietary-affiliation",
   "metadata": {},
   "outputs": [
    {
     "data": {
      "image/png": "[encoded data removed]",
      "text/plain": [
       "<Figure size 600x400 with 1 Axes>"
      ]
     },
     "metadata": {
      "needs_background": "light"
     },
     "output_type": "display_data"
    }
   ],
   "source": [
    "f = plt.figure(figsize = (6,4), dpi = 100)\n",
    "axes = f.add_axes([0.1,0.1,0.9,0.9])\n",
    "axes.set_xlabel('Edad en Grupos Quinquenales')\n",
    "axes.set_ylabel('Coef. Variación')\n",
    "axes.scatter(range(10), out['CV'], color = '#000000')  \n",
    "axes.plot(range(10), out['CV'], linewidth = 1)  \n",
    "axes.axhline(y = 0.05, color = '#80ff80', ls = '--', linewidth = 1)\n",
    "axes.axhline(y = 0.10, color = '#E8C91E', ls = '--', linewidth = 1)\n",
    "axes.axhline(y = 0.15, color = '#E81E6B', ls = '--', linewidth = 1)\n",
    "axes.set_ylim([-0.01,0.26])\n",
    "axes.set_xticks(ticks = range(10))\n",
    "plt.show()"
   ]
  },
  {
   "cell_type": "markdown",
   "id": "exclusive-three",
   "metadata": {},
   "source": [
    "## 5 Pruebas de hipótesis\n",
    "\n",
    "Bajo el paradigma Bayesiano, las hipótesis $H_0$ y $H_1$ se consideran como **cantidades aleatorias** de forma que $\\textsf{Pr}(H_0) + \\textsf{Pr}(H_1) = 1$ (típicamente $\\textsf{Pr}(H_0) = \\textsf{Pr}(H_1) = 0.5$). Para probar el sistema simplemente se calculan las probabilidades posteriores de cada una de las hipótesis por medio del teorema de Bayes:\n",
    "$$\n",
    "\\textsf{Pr}(H_k\\mid\\mathbf{D})=\\frac{\\textsf{Pr}(\\mathbf{D}\\mid H_k)\\textsf{Pr}(H_k)}{\\textsf{Pr}(\\mathbf{D}\\mid H_0)\\textsf{Pr}(H_0) + \\textsf{Pr}(\\mathbf{D}\\mid H_1)\\textsf{Pr}(H_1)}\\,,\\qquad k=0,1\\,,\n",
    "$$\n",
    "donde $\\mathbf{D}$ denota los datos disponibles. De esta forma, se tiene que\n",
    "$$\n",
    "\\frac{\\textsf{Pr}(H_0\\mid\\mathbf{D})}{\\textsf{Pr}(H_1\\mid\\mathbf{D})} = \\frac{\\textsf{Pr}(\\mathbf{D}\\mid H_0)}{\\textsf{Pr}(\\mathbf{D}\\mid H_1)}\\times\\frac{\\textsf{Pr}(H_0)}{\\textsf{Pr}(H_1)}\\,,\n",
    "$$\n",
    "es decir,\n",
    "$$\n",
    "\\text{Posibilidades relativas a posteriori} = \\text{Factor de Bayes ($B_{01}$)}\\times\\text{Posibilidades relativas a priori}\\,.\n",
    "$$\n",
    "En https://saludpublica.mx/index.php/spm/article/view/5678/6216 se presenta una discusión acerca de la traducción correcta de *odds* al español.\n",
    "\n",
    "La cantidad $\\textsf{Pr}(\\mathbf{D}\\mid H_k)$ se denomina **verosimilitud marginal** o **distribución predictiva previa** bajo el modelo especificado por $H_k$ y se calcula **integrando** sobre el espacio de parámetros,\n",
    "$$\n",
    "\\textsf{Pr}(\\mathbf{D}\\mid H_k) = \\int p(\\mathbf{D}\\mid\\boldsymbol{\\theta}_k, H_k)\\,p(\\boldsymbol{\\theta}_k\\mid H_k)\\,\\text{d}\\boldsymbol{\\theta}_k\\,.\n",
    "$$\n",
    "donde $\\boldsymbol{\\theta}_k$ representa los parámetros del modelo bajo $H_k$.  \n",
    "\n",
    "Se recomienda interpretar el **factor de Bayes** $B_{10}$ porque sopesar evidencia en contra de $H_0$ es más común, pero también se puede hacer la interpretación de términos de evidencia a favor. Siguiendo a Kass (1995), $B_{10}$ se puede interpretar de la siguiente manera:\n",
    "\n",
    "| $B_{10}$   | Evidencia en contra de $H_0$  |\n",
    "|:----------:|:-----------------------------:|\n",
    "| 1 a 3      | No vale más que una mención   |\n",
    "| 3 a 20     | Moderada                      |\n",
    "| 20 a 150   | Fuerte                        |\n",
    "| > 150      | Decisiva                      |\n",
    "\n",
    "**Kass, R. E., & Raftery, A. E. (1995). Bayes factors. Journal of the american statistical association, 90(430), 773-795.**\n",
    "\n",
    "Las pruebas de hipótesis Bayesianas no están restringidas a probar hipótesis por parejas de hipótesis.\n",
    "\n",
    "Los métodos de pruebas de hipótesis Bayesianos y frecuentistas pueden arrojar resultados muy diferentes (e.g., paradoja de Jeffreys-Lindley, https://michael-franke.github.io/intro-data-analysis/jeffreys-lindley-paradox.html).\n",
    "        "
   ]
  },
  {
   "cell_type": "markdown",
   "id": "simple-acrobat",
   "metadata": {},
   "source": [
    "## 6 Ejemplo: Número de hijos y educación\n",
    "\n",
    "Se quiere probar el sistema de hipótesis\n",
    "$$\n",
    "H_0: \\theta_1 = \\theta_2\\qquad\\text{frente a}\\qquad H_1: \\theta_1\\neq\\theta_2\\,.\n",
    "$$\n",
    "En este caso se tiene que \n",
    "$$\n",
    "p(\\boldsymbol{y}_1,\\boldsymbol{y}_2\\mid H_0) = \\frac{1}{\\prod_{i=1}^{n_1} y_{1,i}!}\\,\\frac{1}{\\prod_{i=1}^{n_2} y_{2,i}!}\\,\\frac{b^a}{\\Gamma(a)}\\,\\frac{\\Gamma(a+s_1+s_2)}{(b+n_1+n_2)^{a+s_1+s_2}}\n",
    "$$\n",
    "mientras que \n",
    "$$\n",
    "p(\\boldsymbol{y}_1,\\boldsymbol{y}_2\\mid H_1) = \\frac{1}{\\prod_{i=1}^{n_1} y_{1,i}!}\\,\\frac{1}{\\prod_{i=1}^{n_2} y_{2,i}!}\\,\\frac{b^a}{\\Gamma(a)}\\,\\frac{b^a}{\\Gamma(a)}\\,\\frac{\\Gamma(a+s_1)}{(b+n_1)^{a+s_1}}\\,\\frac{\\Gamma(a+s_2)}{(b+n_2)^{a+s_2}}\n",
    "$$\n",
    "donde $\\boldsymbol{y}_j=(y_{j,1},\\ldots,y_{j,n_j})$ para $j=1,2$, y $a$ y $b$ son los hiperparámetros del modelo, y por lo tanto el factor de Bayes correspondiente es\n",
    "$$\n",
    "B_{01} = \\frac{\\Gamma(a)}{b^a}\\,\\frac{\\Gamma(a+s_1+s_2)}{\\Gamma(a+s_1)\\Gamma(a+s_2)}\\,\\frac{(b+n_1)^{a+s_1}(b+n_2)^{a+s_2}}{(b+n_1+n_2)^{a+s_1+s_2}}\\,.\n",
    "$$"
   ]
  },
  {
   "cell_type": "code",
   "execution_count": 39,
   "id": "bulgarian-kennedy",
   "metadata": {},
   "outputs": [],
   "source": [
    "# filtro\n",
    "indices = (df.P_PARENTESCOR == 1) & (df.P_SEXO == 2) & (df.P_EDADR == 9) & (df.PA1_GRP_ETNIC == 6) & is_in(df.PA_LUG_NAC, [2,3]) & is_in(df.PA_VIVIA_5ANOS, [2,3]) & is_in(df.PA_HNV, [1,2]) & (df.P_ALFABETA == 1)"
   ]
  },
  {
   "cell_type": "code",
   "execution_count": 40,
   "id": "mighty-producer",
   "metadata": {},
   "outputs": [],
   "source": [
    "# y1 : numero de hijos, mujeres de 40 años, sin pregrado o menos\n",
    "# y2 : numero de hijos, mujeres de 40 años, con pregrado o mas\n",
    "y1 = df.PA1_THNV[indices & (df.P_NIVEL_ANOSR == 0)]\n",
    "y2 = df.PA1_THNV[indices & (df.P_NIVEL_ANOSR == 1)]"
   ]
  },
  {
   "cell_type": "code",
   "execution_count": 41,
   "id": "individual-sandwich",
   "metadata": {},
   "outputs": [],
   "source": [
    "# tamaños de muestra\n",
    "n1 = len(y1)\n",
    "n2 = len(y2)\n",
    "# estadisticos suficientes\n",
    "s1 = np.sum(y1)\n",
    "s2 = np.sum(y2)"
   ]
  },
  {
   "cell_type": "code",
   "execution_count": 42,
   "id": "interim-technique",
   "metadata": {},
   "outputs": [
    {
     "name": "stdout",
     "output_type": "stream",
     "text": [
      "632595071.2720193\n"
     ]
    }
   ],
   "source": [
    "# factor de Bayes 10\n",
    "# calcular en escala log y exponenciar\n",
    "B01 = np.exp(sp.loggamma(a)-a*np.log(b)+sp.loggamma(a+s1+s2)-sp.loggamma(a+s1)-sp.loggamma(a+s2)+\n",
    "             (a+s1)*np.log(b+n1)+(a+s2)*np.log(b+n2)-(a+s1+s2)*np.log(b+n1+n2))\n",
    "B10 = 1/B01\n",
    "print(B10)"
   ]
  },
  {
   "cell_type": "code",
   "execution_count": 43,
   "id": "educational-tucson",
   "metadata": {},
   "outputs": [
    {
     "name": "stdout",
     "output_type": "stream",
     "text": [
      "9.837648689580496e-17\n"
     ]
    }
   ],
   "source": [
    "# valor p frecuentista (asintotico)\n",
    "# valor p = Pr(observar datos tan o más extremos en dirección de H1 ∣ H0 es cierta)\n",
    "yb1 = np.mean(y1)\n",
    "yb2 = np.mean(y2)\n",
    "sd1 = np.std(y1)\n",
    "sd2 = np.std(y2)\n",
    "z = (yb1 - yb2 - 0)/np.sqrt(sd1**2/n1 + sd2**2/n2)\n",
    "p = 2*st.norm.sf(abs(z))\n",
    "print(p)"
   ]
  }
 ],
 "metadata": {
  "kernelspec": {
   "display_name": "Python 3 (ipykernel)",
   "language": "python",
   "name": "python3"
  },
  "language_info": {
   "codemirror_mode": {
    "name": "ipython",
    "version": 3
   },
   "file_extension": ".py",
   "mimetype": "text/x-python",
   "name": "python",
   "nbconvert_exporter": "python",
   "pygments_lexer": "ipython3",
   "version": "3.9.7"
  }
 },
 "nbformat": 4,
 "nbformat_minor": 5
}
